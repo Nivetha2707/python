{
 "cells": [
  {
   "cell_type": "code",
   "execution_count": 1,
   "metadata": {},
   "outputs": [
    {
     "name": "stdout",
     "output_type": "stream",
     "text": [
      "palindrome\n"
     ]
    }
   ],
   "source": [
    "n=int(input(\"enter a number:\"))\n",
    "if n%2==0:\n",
    "    if str(n)==str(n)[::-1]:\n",
    "        print(\"palindrome\")\n",
    "    else:\n",
    "        print(\"not palindrome\")\n",
    "elif n%2!=0:\n",
    "    fact=1\n",
    "    for i in range(1,n+1):\n",
    "        fact*=i\n",
    "    print(\"the factorial is:{}\",format(fact))\n",
    "    print(\"the no.of digits in factorial is:{}\".format(len(str(fact))))\n",
    "    "
   ]
  },
  {
   "cell_type": "code",
   "execution_count": 5,
   "metadata": {},
   "outputs": [
    {
     "name": "stdout",
     "output_type": "stream",
     "text": [
      "volume is 1570.0\n",
      "surface area of cylinder is 942.0\n"
     ]
    }
   ],
   "source": [
    "r=int(input(\"enter radius:\"))\n",
    "h=int(input(\"enter height:\"))\n",
    "pi=3.14\n",
    "v=pi*((r*r)*h)\n",
    "s=((2*pi*r)*h)+((pi*r**2)*2)\n",
    "print(\"volume is\",v)\n",
    "print(\"surface area of cylinder is\",s)\n"
   ]
  },
  {
   "cell_type": "code",
   "execution_count": 8,
   "metadata": {},
   "outputs": [
    {
     "name": "stdout",
     "output_type": "stream",
     "text": [
      "A wind speed of chill index in degree celsius: 7.914117477770257\n"
     ]
    }
   ],
   "source": [
    "v=int(input(\"enter a wind speed in km/h:\"))\n",
    "t=int(input(\"enter a temperature in oc:\"))\n",
    "f=13.12+(0.6215*t-11.37*v**0.16)+(0.3965*t*v**0.16)\n",
    "print(\"A wind speed of chill index in degree celsius:\",f)"
   ]
  },
  {
   "cell_type": "code",
   "execution_count": 12,
   "metadata": {},
   "outputs": [
    {
     "name": "stdout",
     "output_type": "stream",
     "text": [
      "negative number\n"
     ]
    }
   ],
   "source": [
    "a=int(input(\"enter the number:\"))\n",
    "if(a>0):\n",
    "    print(\"positive number\")\n",
    "elif(a==0):\n",
    "    print(\"the number is zero\")\n",
    "else:\n",
    "    print(\"negative number\")"
   ]
  }
 ],
 "metadata": {
  "kernelspec": {
   "display_name": "Python 3 (ipykernel)",
   "language": "python",
   "name": "python3"
  },
  "language_info": {
   "codemirror_mode": {
    "name": "ipython",
    "version": 3
   },
   "file_extension": ".py",
   "mimetype": "text/x-python",
   "name": "python",
   "nbconvert_exporter": "python",
   "pygments_lexer": "ipython3",
   "version": "3.10.4"
  },
  "orig_nbformat": 4
 },
 "nbformat": 4,
 "nbformat_minor": 2
}
